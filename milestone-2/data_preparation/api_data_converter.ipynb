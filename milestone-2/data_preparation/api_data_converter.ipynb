{
  "cells": [
    {
      "cell_type": "code",
      "source": [
        "# Mount Google Drive to Google Colab\n",
        "from google.colab import drive\n",
        "drive.mount('/content/gdrive/')"
      ],
      "metadata": {
        "colab": {
          "base_uri": "https://localhost:8080/"
        },
        "id": "YOCHGRhn0gzG",
        "outputId": "03934ceb-6a27-4a84-c4a3-10300bffda8d"
      },
      "id": "YOCHGRhn0gzG",
      "execution_count": null,
      "outputs": [
        {
          "output_type": "stream",
          "name": "stdout",
          "text": [
            "Mounted at /content/gdrive/\n"
          ]
        }
      ]
    },
    {
      "cell_type": "code",
      "execution_count": null,
      "id": "0675dfbb",
      "metadata": {
        "id": "0675dfbb"
      },
      "outputs": [],
      "source": [
        "# Import necessary libraries\n",
        "import csv\n",
        "import datetime\n",
        "import json\n",
        "import os\n",
        "import requests\n",
        "import csv\n",
        "import pandas as pd"
      ]
    },
    {
      "cell_type": "code",
      "execution_count": null,
      "id": "caa3cdea",
      "metadata": {
        "id": "caa3cdea"
      },
      "outputs": [],
      "source": [
        "# Code Line to check the position of the data\n",
        "json_data['items'][0]['carpark_data'][0]['carpark_info'][0]"
      ]
    },
    {
      "cell_type": "code",
      "source": [
        "# Datetime checker\n",
        "start_date = datetime.datetime(2020, 4, 7, 9)\n",
        "end_date = datetime.datetime(2020, 6, 1, 9)\n",
        "total_days = (end_date - start_date).days + 1\n",
        "print(total_days)"
      ],
      "metadata": {
        "colab": {
          "base_uri": "https://localhost:8080/"
        },
        "id": "d7P3lCaRyMdn",
        "outputId": "504ed552-a5b6-4c1c-b804-c53eec61759a"
      },
      "id": "d7P3lCaRyMdn",
      "execution_count": null,
      "outputs": [
        {
          "output_type": "stream",
          "name": "stdout",
          "text": [
            "56\n"
          ]
        }
      ]
    },
    {
      "cell_type": "code",
      "execution_count": null,
      "id": "c55bf19e",
      "metadata": {
        "id": "c55bf19e"
      },
      "outputs": [],
      "source": [
        "# Date range to pull data over:\n",
        "    # Circuit breaker starts on 7 April 2020\n",
        "    # Circuit breaker ends on 1 June 2020\n",
        "\n",
        "set_date = datetime.datetime(2020, 3, 1, 9)\n",
        "start_date = datetime.datetime(2020, 3, 1, 9)\n",
        "end_date = datetime.datetime(2020, 6, 30, 9)\n",
        "total_days = (end_date - start_date).days + 1\n",
        "\n",
        "url_string = \"https://api.data.gov.sg/v1/transport/carpark-availability?date_time=\"\n",
        "\n",
        "headers = {\n",
        "    'Accept': 'application/json',\n",
        "    'Content-Type': 'application/json'\n",
        "}\n",
        "\n",
        "day_data = []\n",
        "\n",
        "for day_number in range(total_days):\n",
        "    # Looping the time range according to 9AM, 12PM, 3PM, 6PM & 9PM.\n",
        "    for day_time in range(5):\n",
        "        search_date = str(set_date).replace(\" \", \"T\").replace(\":\", \"%3A\")\n",
        "        url = url_string + search_date\n",
        "        response = requests.request(\"GET\", url, headers=headers, data={})\n",
        "        json_data = response.json()\n",
        "        data = json_data['items']\n",
        "        day_data.append(data)\n",
        "        set_date = set_date + datetime.timedelta(hours = 3)\n",
        "\n",
        "# Print the dataframe of the carpark dataset\n",
        "#day_df = pd.DataFrame.from_records(day_data)\n",
        "#day_df\n",
        "\n",
        "#print(day_data)\n",
        "\n",
        "# Export to JSON file\n",
        "with open(\"all_carpark_dataset.json\", \"w\") as f:\n",
        "    json.dump(day_data, f)"
      ]
    },
    {
      "cell_type": "code",
      "execution_count": null,
      "id": "1d24efb5",
      "metadata": {
        "id": "1d24efb5"
      },
      "outputs": [],
      "source": [
        "# View columns in day_df\n",
        "for col in day_df:\n",
        "    print(col)"
      ]
    },
    {
      "cell_type": "code",
      "execution_count": null,
      "id": "08da5707",
      "metadata": {
        "id": "08da5707"
      },
      "outputs": [],
      "source": [
        "# Export to CSV file\n",
        "day_df.to_csv('data.csv')"
      ]
    },
    {
      "cell_type": "code",
      "execution_count": null,
      "id": "c600d10e",
      "metadata": {
        "id": "c600d10e"
      },
      "outputs": [],
      "source": [
        ""
      ]
    }
  ],
  "metadata": {
    "kernelspec": {
      "display_name": "Python 3 (ipykernel)",
      "language": "python",
      "name": "python3"
    },
    "language_info": {
      "codemirror_mode": {
        "name": "ipython",
        "version": 3
      },
      "file_extension": ".py",
      "mimetype": "text/x-python",
      "name": "python",
      "nbconvert_exporter": "python",
      "pygments_lexer": "ipython3",
      "version": "3.9.12"
    },
    "colab": {
      "name": "api_data_converter.ipynb",
      "provenance": [],
      "collapsed_sections": []
    },
    "accelerator": "GPU",
    "gpuClass": "standard"
  },
  "nbformat": 4,
  "nbformat_minor": 5
}